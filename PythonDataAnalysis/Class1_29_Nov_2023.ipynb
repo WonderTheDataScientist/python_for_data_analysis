{
 "cells": [
  {
   "cell_type": "code",
   "execution_count": 18,
   "id": "270e2bfa",
   "metadata": {},
   "outputs": [
    {
     "name": "stdout",
     "output_type": "stream",
     "text": [
      "Ade  is  24  Years Old\n"
     ]
    }
   ],
   "source": [
    "x = \"Ade\"\n",
    "age =  24\n",
    "print(x, \" is \", age, \" Years\", \"Old\" )"
   ]
  },
  {
   "cell_type": "code",
   "execution_count": 19,
   "id": "7c32a444",
   "metadata": {},
   "outputs": [
    {
     "name": "stdout",
     "output_type": "stream",
     "text": [
      "Ade\n"
     ]
    }
   ],
   "source": [
    "print(x)"
   ]
  },
  {
   "cell_type": "markdown",
   "id": "b3212104",
   "metadata": {},
   "source": [
    "##### DATA TYPES IN PYTHON"
   ]
  },
  {
   "cell_type": "code",
   "execution_count": 20,
   "id": "db1f8b5b",
   "metadata": {},
   "outputs": [],
   "source": [
    "# int -  whole numbers\n",
    "# float -  decimal number\n",
    "# String -  text\n",
    "# List -  multople data types\n",
    "# Dictionary -  key value pair datas\n",
    "# Set - \n",
    "# Boolean\n",
    "# Tuple, etc"
   ]
  },
  {
   "cell_type": "code",
   "execution_count": 21,
   "id": "3ef2e395",
   "metadata": {},
   "outputs": [
    {
     "name": "stdout",
     "output_type": "stream",
     "text": [
      "24\n"
     ]
    }
   ],
   "source": [
    "age = 24\n",
    "print(age)"
   ]
  },
  {
   "cell_type": "code",
   "execution_count": 22,
   "id": "fc1d8d1a",
   "metadata": {},
   "outputs": [
    {
     "data": {
      "text/plain": [
       "int"
      ]
     },
     "execution_count": 22,
     "metadata": {},
     "output_type": "execute_result"
    }
   ],
   "source": [
    "type(age)"
   ]
  },
  {
   "cell_type": "code",
   "execution_count": 23,
   "id": "1751f821",
   "metadata": {},
   "outputs": [
    {
     "data": {
      "text/plain": [
       "str"
      ]
     },
     "execution_count": 23,
     "metadata": {},
     "output_type": "execute_result"
    }
   ],
   "source": [
    "x = \"Jonah\"\n",
    "type(x)"
   ]
  },
  {
   "cell_type": "code",
   "execution_count": 37,
   "id": "b80f19a0",
   "metadata": {},
   "outputs": [
    {
     "data": {
      "text/plain": [
       "['Orange', 'Mango', 'Guava', 'Apple', 'Pineapple']"
      ]
     },
     "execution_count": 37,
     "metadata": {},
     "output_type": "execute_result"
    }
   ],
   "source": [
    "fruits = ['Orange','Mango','Guava','Apple','Pineapple']\n",
    "fruits"
   ]
  },
  {
   "cell_type": "code",
   "execution_count": 25,
   "id": "c316ae08",
   "metadata": {},
   "outputs": [
    {
     "data": {
      "text/plain": [
       "5"
      ]
     },
     "execution_count": 25,
     "metadata": {},
     "output_type": "execute_result"
    }
   ],
   "source": [
    "len(fruits)"
   ]
  },
  {
   "cell_type": "code",
   "execution_count": 26,
   "id": "ec3cb978",
   "metadata": {},
   "outputs": [
    {
     "data": {
      "text/plain": [
       "['Orange', 'Carrot', 'Guava', 'Apple', 'Pineapple']"
      ]
     },
     "execution_count": 26,
     "metadata": {},
     "output_type": "execute_result"
    }
   ],
   "source": [
    "fruits[1] = \"Carrot\"\n",
    "fruits"
   ]
  },
  {
   "cell_type": "code",
   "execution_count": 27,
   "id": "4e697ced",
   "metadata": {},
   "outputs": [
    {
     "data": {
      "text/plain": [
       "['Orange', 'Carrot', 'Guava', 'Mango', 'Pineapple']"
      ]
     },
     "execution_count": 27,
     "metadata": {},
     "output_type": "execute_result"
    }
   ],
   "source": [
    "fruits[3] = \"Mango\"\n",
    "fruits"
   ]
  },
  {
   "cell_type": "markdown",
   "id": "a1a1b42b",
   "metadata": {},
   "source": [
    "### LIST SLICING AND LIST MANIPULATION"
   ]
  },
  {
   "cell_type": "code",
   "execution_count": 28,
   "id": "f3a5d72f",
   "metadata": {},
   "outputs": [
    {
     "data": {
      "text/plain": [
       "['Orange', 'Carrot', 'Guava', 'Mango', 'Pineapple']"
      ]
     },
     "execution_count": 28,
     "metadata": {},
     "output_type": "execute_result"
    }
   ],
   "source": [
    "fruits"
   ]
  },
  {
   "cell_type": "code",
   "execution_count": 29,
   "id": "a15da134",
   "metadata": {},
   "outputs": [
    {
     "data": {
      "text/plain": [
       "['Orange', 'Guava', 'Pineapple']"
      ]
     },
     "execution_count": 29,
     "metadata": {},
     "output_type": "execute_result"
    }
   ],
   "source": [
    "fruits[0:5:2]"
   ]
  },
  {
   "cell_type": "code",
   "execution_count": 30,
   "id": "8f2ac687",
   "metadata": {},
   "outputs": [
    {
     "data": {
      "text/plain": [
       "'Guava'"
      ]
     },
     "execution_count": 30,
     "metadata": {},
     "output_type": "execute_result"
    }
   ],
   "source": [
    "fruits[-3]"
   ]
  },
  {
   "cell_type": "code",
   "execution_count": 31,
   "id": "d801ffc5",
   "metadata": {},
   "outputs": [],
   "source": [
    "# Add to a list - append, extend, insert\n",
    "# remove from  a list - pop - del - remove"
   ]
  },
  {
   "cell_type": "code",
   "execution_count": 51,
   "id": "17f37425",
   "metadata": {},
   "outputs": [
    {
     "data": {
      "text/plain": [
       "['Orange', 'Mango', 'Berry', 'Guava', 'Apple', 'Pineapple', 'Banana']"
      ]
     },
     "execution_count": 51,
     "metadata": {},
     "output_type": "execute_result"
    }
   ],
   "source": [
    "fruits.append('Banana')\n",
    "fruits"
   ]
  },
  {
   "cell_type": "code",
   "execution_count": 52,
   "id": "13cf6cd5",
   "metadata": {},
   "outputs": [
    {
     "data": {
      "text/plain": [
       "['Orange',\n",
       " 'Mango',\n",
       " 'Berry',\n",
       " 'Shawachop',\n",
       " 'Guava',\n",
       " 'Apple',\n",
       " 'Pineapple',\n",
       " 'Banana']"
      ]
     },
     "execution_count": 52,
     "metadata": {},
     "output_type": "execute_result"
    }
   ],
   "source": [
    "fruits.insert(3, 'Shawachop')\n",
    "fruits"
   ]
  },
  {
   "cell_type": "code",
   "execution_count": 33,
   "id": "683e678a",
   "metadata": {},
   "outputs": [
    {
     "data": {
      "text/plain": [
       "['Orange', 'Carrot', 'Mango', 'Pineapple', 'Banana']"
      ]
     },
     "execution_count": 33,
     "metadata": {},
     "output_type": "execute_result"
    }
   ],
   "source": [
    "fruits.remove('Guava')\n",
    "fruits"
   ]
  },
  {
   "cell_type": "code",
   "execution_count": 34,
   "id": "37545680",
   "metadata": {},
   "outputs": [
    {
     "data": {
      "text/plain": [
       "'Banana'"
      ]
     },
     "execution_count": 34,
     "metadata": {},
     "output_type": "execute_result"
    }
   ],
   "source": [
    "fruits.pop()"
   ]
  },
  {
   "cell_type": "code",
   "execution_count": 35,
   "id": "6de91300",
   "metadata": {},
   "outputs": [],
   "source": [
    "del(fruits)\n"
   ]
  },
  {
   "cell_type": "code",
   "execution_count": 38,
   "id": "96e8a6b5",
   "metadata": {},
   "outputs": [
    {
     "data": {
      "text/plain": [
       "['Orange', 'Mango', 'Guava', 'Apple', 'Pineapple']"
      ]
     },
     "execution_count": 38,
     "metadata": {},
     "output_type": "execute_result"
    }
   ],
   "source": [
    "fruits"
   ]
  },
  {
   "cell_type": "code",
   "execution_count": 40,
   "id": "5bb47355",
   "metadata": {},
   "outputs": [
    {
     "data": {
      "text/plain": [
       "('Orange', 'Mango', 'Guava', 'Apple', 'Pineapple')"
      ]
     },
     "execution_count": 40,
     "metadata": {},
     "output_type": "execute_result"
    }
   ],
   "source": [
    "myfruit = ('Orange','Mango','Guava','Apple','Pineapple')\n",
    "myfruit"
   ]
  },
  {
   "cell_type": "code",
   "execution_count": 41,
   "id": "8107e377",
   "metadata": {},
   "outputs": [
    {
     "data": {
      "text/plain": [
       "tuple"
      ]
     },
     "execution_count": 41,
     "metadata": {},
     "output_type": "execute_result"
    }
   ],
   "source": [
    "type(myfruit)"
   ]
  },
  {
   "cell_type": "code",
   "execution_count": 42,
   "id": "35b1b5bb",
   "metadata": {},
   "outputs": [
    {
     "data": {
      "text/plain": [
       "list"
      ]
     },
     "execution_count": 42,
     "metadata": {},
     "output_type": "execute_result"
    }
   ],
   "source": [
    "myfruit = list(myfruit)\n",
    "type(myfruit)"
   ]
  },
  {
   "cell_type": "code",
   "execution_count": null,
   "id": "ed424e6f",
   "metadata": {},
   "outputs": [],
   "source": [
    "myfruit"
   ]
  },
  {
   "cell_type": "code",
   "execution_count": 43,
   "id": "10859507",
   "metadata": {},
   "outputs": [
    {
     "data": {
      "text/plain": [
       "['Orange', 'Mango', 'Banana', 'Apple', 'Pineapple']"
      ]
     },
     "execution_count": 43,
     "metadata": {},
     "output_type": "execute_result"
    }
   ],
   "source": [
    "myfruit[2] = \"Banana\"\n",
    "myfruit"
   ]
  },
  {
   "cell_type": "code",
   "execution_count": 44,
   "id": "68ad0d83",
   "metadata": {},
   "outputs": [
    {
     "data": {
      "text/plain": [
       "('Orange', 'Mango', 'Banana', 'Apple', 'Pineapple')"
      ]
     },
     "execution_count": 44,
     "metadata": {},
     "output_type": "execute_result"
    }
   ],
   "source": [
    "myfruit =  tuple(myfruit)\n",
    "myfruit"
   ]
  },
  {
   "cell_type": "code",
   "execution_count": 45,
   "id": "b4deb610",
   "metadata": {},
   "outputs": [
    {
     "data": {
      "text/plain": [
       "tuple"
      ]
     },
     "execution_count": 45,
     "metadata": {},
     "output_type": "execute_result"
    }
   ],
   "source": [
    "type(myfruit)"
   ]
  },
  {
   "cell_type": "code",
   "execution_count": 46,
   "id": "2227fe27",
   "metadata": {},
   "outputs": [
    {
     "name": "stdout",
     "output_type": "stream",
     "text": [
      "Charity\n"
     ]
    }
   ],
   "source": [
    "x =  \"Ade\"\n",
    "x = \"Jonah\"\n",
    "x = \"Charity\"\n",
    "print(x)"
   ]
  },
  {
   "cell_type": "code",
   "execution_count": 47,
   "id": "e5d0c55d",
   "metadata": {},
   "outputs": [
    {
     "name": "stdout",
     "output_type": "stream",
     "text": [
      "the value of x  is 6 and the value of y is 4\n"
     ]
    }
   ],
   "source": [
    "# Write a program to SWAP two numbers without a temporary Variable\n",
    "x =  4\n",
    "y =  6\n",
    "x, y  = y,x\n",
    "print('the value of x  is' , x, 'and the value of y is', y)\n"
   ]
  },
  {
   "cell_type": "code",
   "execution_count": 48,
   "id": "327c1a2c",
   "metadata": {},
   "outputs": [
    {
     "name": "stdout",
     "output_type": "stream",
     "text": [
      "the value of x  is 4 and the value of y is 6\n"
     ]
    }
   ],
   "source": [
    "x =  x + y\n",
    "y  = x- y\n",
    "x =  x-y\n",
    "print('the value of x  is' , x, 'and the value of y is', y)"
   ]
  },
  {
   "cell_type": "markdown",
   "id": "a7ad1031",
   "metadata": {},
   "source": [
    "##### WRITE A PYTHON PROGRAM TO SWAP TWO NUMBERS WITH\n",
    "##### A temporary VARIABLE"
   ]
  }
 ],
 "metadata": {
  "kernelspec": {
   "display_name": "Python 3 (ipykernel)",
   "language": "python",
   "name": "python3"
  },
  "language_info": {
   "codemirror_mode": {
    "name": "ipython",
    "version": 3
   },
   "file_extension": ".py",
   "mimetype": "text/x-python",
   "name": "python",
   "nbconvert_exporter": "python",
   "pygments_lexer": "ipython3",
   "version": "3.10.9"
  }
 },
 "nbformat": 4,
 "nbformat_minor": 5
}
