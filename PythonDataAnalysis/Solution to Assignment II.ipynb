{
 "cells": [
  {
   "cell_type": "markdown",
   "id": "dba4fc66",
   "metadata": {},
   "source": [
    "### Assignment II by Bashidoshi Musa\n",
    "##### Q1: Ade is twice as old as his sister, four years ago he was six times as old as his sister. What is the current age of Ade now?\n",
    "##### Q2: Write a python code to show prime numbers as received from user."
   ]
  },
  {
   "cell_type": "code",
   "execution_count": 1,
   "id": "ff612198",
   "metadata": {},
   "outputs": [
    {
     "name": "stdout",
     "output_type": "stream",
     "text": [
      "The current age of Ade is  5\n",
      "The current age of Ade is  10\n"
     ]
    }
   ],
   "source": [
    "#Solution 1\n",
    "#Assuming the sister was 1 year old four years ago\n",
    "sister_age_4yrs_ago = 1\n",
    "sister_current_age = sister_age_4yrs_ago + 4\n",
    "Ade_age_4yrs_ago = 6 * sister_age_4yrs_ago\n",
    "Ade_current_age = 2 * sister_current_age\n",
    "\n",
    "print(\"The current age of Ade is \", sister_age)\n",
    "print(\"The current age of Ade is \", Ade_current_age)"
   ]
  },
  {
   "cell_type": "code",
   "execution_count": null,
   "id": "3593a97c",
   "metadata": {},
   "outputs": [],
   "source": [
    "let ade be x\n",
    "the sister be y\n",
    "ade twice as old as the sister \n",
    "--------------\n",
    "ade = 2y\n",
    "four years ago\n",
    "-------------\n",
    "sister = y - 4\n",
    "ade =  2y -4\n",
    "he was six times as old as the sister\n",
    "--------------\n",
    "2y-4 = 6(y-4)\n",
    "2y - 4 = 6y - 24\n",
    "2y - 6y = -24 + 4\n",
    "-4y = -20\n",
    "y = 20/4\n",
    "y = 5\n",
    "Ade = 2y\n",
    "x  =  2 * 5\n",
    "x = 10"
   ]
  },
  {
   "cell_type": "code",
   "execution_count": null,
   "id": "230cd484",
   "metadata": {},
   "outputs": [],
   "source": []
  },
  {
   "cell_type": "code",
   "execution_count": 11,
   "id": "4dd41443",
   "metadata": {},
   "outputs": [
    {
     "name": "stdout",
     "output_type": "stream",
     "text": [
      "Welcome to prime number calculator\n",
      "Start from 67\n",
      "Stop at 3\n",
      "The prime numbers between 3 and 67 are; [3, 5, 7, 11, 13, 17, 19, 23, 29, 31, 37, 41, 43, 47, 53, 59, 61, 67]\n"
     ]
    }
   ],
   "source": [
    "#Solution 2\n",
    "print('Welcome to prime number calculator')\n",
    "x = int(input('Start from '))\n",
    "y = int(input('Stop at '))\n",
    "# function\n",
    "def primelogic():\n",
    "    from sympy import primerange\n",
    "    prime_numbers = list(primerange(x, y+1))\n",
    "\n",
    "    print(\"The prime numbers between\", x, \"and\", y, \"are;\", prime_numbers)\n",
    "# swap\n",
    "if y < x:\n",
    "    y,x = x,y\n",
    "    primelogic()\n",
    "    \n",
    "else:\n",
    "    primelogic()"
   ]
  },
  {
   "cell_type": "code",
   "execution_count": null,
   "id": "8c501b94",
   "metadata": {},
   "outputs": [],
   "source": []
  }
 ],
 "metadata": {
  "kernelspec": {
   "display_name": "Python 3 (ipykernel)",
   "language": "python",
   "name": "python3"
  },
  "language_info": {
   "codemirror_mode": {
    "name": "ipython",
    "version": 3
   },
   "file_extension": ".py",
   "mimetype": "text/x-python",
   "name": "python",
   "nbconvert_exporter": "python",
   "pygments_lexer": "ipython3",
   "version": "3.10.9"
  }
 },
 "nbformat": 4,
 "nbformat_minor": 5
}
