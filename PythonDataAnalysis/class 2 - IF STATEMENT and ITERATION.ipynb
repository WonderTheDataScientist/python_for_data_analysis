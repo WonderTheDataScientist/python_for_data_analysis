{
 "cells": [
  {
   "cell_type": "markdown",
   "id": "84f230f0",
   "metadata": {},
   "source": [
    "#### OPERATOR\n",
    " - assignmet operators eg = \n",
    " - arithmetic operators eg. = +, -, *\n",
    " - relational or comparison eg. <, > <=, >=, ==, !=\n",
    "-  logical - and, or"
   ]
  },
  {
   "cell_type": "code",
   "execution_count": 1,
   "id": "170450a1",
   "metadata": {},
   "outputs": [
    {
     "name": "stdout",
     "output_type": "stream",
     "text": [
      "56\n"
     ]
    }
   ],
   "source": [
    "a  = 56\n",
    "if a == 56:\n",
    "    print(a)"
   ]
  },
  {
   "cell_type": "code",
   "execution_count": 14,
   "id": "07fd9e53",
   "metadata": {},
   "outputs": [
    {
     "name": "stdout",
     "output_type": "stream",
     "text": [
      "Yes, the value of a is less than 60\n"
     ]
    }
   ],
   "source": [
    "if a < 60:\n",
    "    print(\"Yes, the value of a is less than 60\")\n",
    "else:\n",
    "    print(\"No,  a is not\")"
   ]
  },
  {
   "cell_type": "code",
   "execution_count": 13,
   "id": "247709cb",
   "metadata": {},
   "outputs": [
    {
     "name": "stdout",
     "output_type": "stream",
     "text": [
      " Enter Number of Years 4\n",
      "Oops Sorry, You must have worked up to 5 Years\n"
     ]
    }
   ],
   "source": [
    "years = int(input(\" Enter Number of Years \"))\n",
    "if years >= 5:\n",
    "    print(\"Congratulations You are due for promotion\")\n",
    "else:\n",
    "    print(\"Oops Sorry, You must have worked up to 5 Years\")"
   ]
  },
  {
   "cell_type": "code",
   "execution_count": 19,
   "id": "e76a981a",
   "metadata": {},
   "outputs": [
    {
     "name": "stdout",
     "output_type": "stream",
     "text": [
      " Enter Score 78\n",
      "Excellent\n"
     ]
    }
   ],
   "source": [
    "score =  int(input(\" Enter Score \"))\n",
    "if score <= 49:\n",
    "    print(\"Failed\")\n",
    "elif score <= 59:\n",
    "    print(\"Average\")\n",
    "elif score <= 75:\n",
    "    print(\"Credit\")\n",
    "else:\n",
    "    print(\"Excellent\")"
   ]
  },
  {
   "cell_type": "code",
   "execution_count": 23,
   "id": "21cdd6d3",
   "metadata": {},
   "outputs": [
    {
     "data": {
      "text/plain": [
       "'ADE'"
      ]
     },
     "execution_count": 23,
     "metadata": {},
     "output_type": "execute_result"
    }
   ],
   "source": [
    "firstname =  \"ade\"\n",
    "lastname = \"Bisi\"\n",
    "firstname.upper()"
   ]
  },
  {
   "cell_type": "code",
   "execution_count": 21,
   "id": "cf54ed70",
   "metadata": {},
   "outputs": [
    {
     "data": {
      "text/plain": [
       "'bisi'"
      ]
     },
     "execution_count": 21,
     "metadata": {},
     "output_type": "execute_result"
    }
   ],
   "source": [
    "lastname.lower()"
   ]
  },
  {
   "cell_type": "code",
   "execution_count": 24,
   "id": "f1bdf17f",
   "metadata": {},
   "outputs": [
    {
     "data": {
      "text/plain": [
       "'Ade'"
      ]
     },
     "execution_count": 24,
     "metadata": {},
     "output_type": "execute_result"
    }
   ],
   "source": [
    "firstname.capitalize()"
   ]
  },
  {
   "cell_type": "code",
   "execution_count": 27,
   "id": "d7647289",
   "metadata": {},
   "outputs": [
    {
     "data": {
      "text/plain": [
       "12"
      ]
     },
     "execution_count": 27,
     "metadata": {},
     "output_type": "execute_result"
    }
   ],
   "source": [
    "name = \"Nebuchanezar\"\n",
    "len(name)"
   ]
  },
  {
   "cell_type": "code",
   "execution_count": 29,
   "id": "31cee597",
   "metadata": {},
   "outputs": [
    {
     "data": {
      "text/plain": [
       "'i love Coding'"
      ]
     },
     "execution_count": 29,
     "metadata": {},
     "output_type": "execute_result"
    }
   ],
   "source": [
    "text =  \"i love programming\"\n",
    "text.replace(\"programming\", \"Coding\")\n"
   ]
  },
  {
   "cell_type": "code",
   "execution_count": 34,
   "id": "90290639",
   "metadata": {},
   "outputs": [
    {
     "data": {
      "text/plain": [
       "dict_keys(['Dad', 'Mum', 'Child'])"
      ]
     },
     "execution_count": 34,
     "metadata": {},
     "output_type": "execute_result"
    }
   ],
   "source": [
    "family = {'Dad':'Bola', 'Mum':'Bisi', 'Child':'Ade'}\n",
    "family.keys()"
   ]
  },
  {
   "cell_type": "code",
   "execution_count": 36,
   "id": "b7b02573",
   "metadata": {},
   "outputs": [
    {
     "data": {
      "text/plain": [
       "dict_values(['Bola', 'Bisi', 'Ade'])"
      ]
     },
     "execution_count": 36,
     "metadata": {},
     "output_type": "execute_result"
    }
   ],
   "source": [
    "family.values()"
   ]
  },
  {
   "cell_type": "code",
   "execution_count": 37,
   "id": "f40b58ed",
   "metadata": {},
   "outputs": [
    {
     "data": {
      "text/plain": [
       "{'Family1': {'Dad': 'Bola', 'Mum': 'Bisi', 'Child': 'Ade'},\n",
       " 'Family2': {'Dad': 'Bode', 'Mum': 'Chika', 'Child': 'Malue'},\n",
       " 'Family3': {'Dad': 'Charles', 'Mum': 'Mide', 'Child': 'Chima'}}"
      ]
     },
     "execution_count": 37,
     "metadata": {},
     "output_type": "execute_result"
    }
   ],
   "source": [
    "family1 = {'Dad':'Bola', 'Mum':'Bisi', 'Child':'Ade'}\n",
    "family2 = {'Dad':'Bode', 'Mum':'Chika', 'Child':'Malue'}\n",
    "family3 = {'Dad':'Charles', 'Mum':'Mide', 'Child':'Chima'}\n",
    "\n",
    "families = {'Family1':family1,'Family2':family2, 'Family3':family3}\n",
    "families"
   ]
  },
  {
   "cell_type": "code",
   "execution_count": 38,
   "id": "37b92dbd",
   "metadata": {},
   "outputs": [],
   "source": [
    "import pandas as pd"
   ]
  },
  {
   "cell_type": "code",
   "execution_count": 39,
   "id": "0bd86e39",
   "metadata": {},
   "outputs": [
    {
     "data": {
      "text/html": [
       "<div>\n",
       "<style scoped>\n",
       "    .dataframe tbody tr th:only-of-type {\n",
       "        vertical-align: middle;\n",
       "    }\n",
       "\n",
       "    .dataframe tbody tr th {\n",
       "        vertical-align: top;\n",
       "    }\n",
       "\n",
       "    .dataframe thead th {\n",
       "        text-align: right;\n",
       "    }\n",
       "</style>\n",
       "<table border=\"1\" class=\"dataframe\">\n",
       "  <thead>\n",
       "    <tr style=\"text-align: right;\">\n",
       "      <th></th>\n",
       "      <th>Family1</th>\n",
       "      <th>Family2</th>\n",
       "      <th>Family3</th>\n",
       "    </tr>\n",
       "  </thead>\n",
       "  <tbody>\n",
       "    <tr>\n",
       "      <th>Dad</th>\n",
       "      <td>Bola</td>\n",
       "      <td>Bode</td>\n",
       "      <td>Charles</td>\n",
       "    </tr>\n",
       "    <tr>\n",
       "      <th>Mum</th>\n",
       "      <td>Bisi</td>\n",
       "      <td>Chika</td>\n",
       "      <td>Mide</td>\n",
       "    </tr>\n",
       "    <tr>\n",
       "      <th>Child</th>\n",
       "      <td>Ade</td>\n",
       "      <td>Malue</td>\n",
       "      <td>Chima</td>\n",
       "    </tr>\n",
       "  </tbody>\n",
       "</table>\n",
       "</div>"
      ],
      "text/plain": [
       "      Family1 Family2  Family3\n",
       "Dad      Bola    Bode  Charles\n",
       "Mum      Bisi   Chika     Mide\n",
       "Child     Ade   Malue    Chima"
      ]
     },
     "execution_count": 39,
     "metadata": {},
     "output_type": "execute_result"
    }
   ],
   "source": [
    "df = pd.DataFrame(families)\n",
    "df"
   ]
  },
  {
   "cell_type": "code",
   "execution_count": 41,
   "id": "b9175826",
   "metadata": {},
   "outputs": [
    {
     "data": {
      "text/plain": [
       "(3, 3)"
      ]
     },
     "execution_count": 41,
     "metadata": {},
     "output_type": "execute_result"
    }
   ],
   "source": [
    "df.shape"
   ]
  },
  {
   "cell_type": "code",
   "execution_count": 42,
   "id": "be7199a6",
   "metadata": {},
   "outputs": [
    {
     "data": {
      "text/html": [
       "<div>\n",
       "<style scoped>\n",
       "    .dataframe tbody tr th:only-of-type {\n",
       "        vertical-align: middle;\n",
       "    }\n",
       "\n",
       "    .dataframe tbody tr th {\n",
       "        vertical-align: top;\n",
       "    }\n",
       "\n",
       "    .dataframe thead th {\n",
       "        text-align: right;\n",
       "    }\n",
       "</style>\n",
       "<table border=\"1\" class=\"dataframe\">\n",
       "  <thead>\n",
       "    <tr style=\"text-align: right;\">\n",
       "      <th></th>\n",
       "      <th>Family1</th>\n",
       "      <th>Family2</th>\n",
       "      <th>Family3</th>\n",
       "    </tr>\n",
       "  </thead>\n",
       "  <tbody>\n",
       "    <tr>\n",
       "      <th>count</th>\n",
       "      <td>3</td>\n",
       "      <td>3</td>\n",
       "      <td>3</td>\n",
       "    </tr>\n",
       "    <tr>\n",
       "      <th>unique</th>\n",
       "      <td>3</td>\n",
       "      <td>3</td>\n",
       "      <td>3</td>\n",
       "    </tr>\n",
       "    <tr>\n",
       "      <th>top</th>\n",
       "      <td>Bola</td>\n",
       "      <td>Bode</td>\n",
       "      <td>Charles</td>\n",
       "    </tr>\n",
       "    <tr>\n",
       "      <th>freq</th>\n",
       "      <td>1</td>\n",
       "      <td>1</td>\n",
       "      <td>1</td>\n",
       "    </tr>\n",
       "  </tbody>\n",
       "</table>\n",
       "</div>"
      ],
      "text/plain": [
       "       Family1 Family2  Family3\n",
       "count        3       3        3\n",
       "unique       3       3        3\n",
       "top       Bola    Bode  Charles\n",
       "freq         1       1        1"
      ]
     },
     "execution_count": 42,
     "metadata": {},
     "output_type": "execute_result"
    }
   ],
   "source": [
    "df.describe()"
   ]
  },
  {
   "cell_type": "code",
   "execution_count": 43,
   "id": "315e8671",
   "metadata": {},
   "outputs": [
    {
     "name": "stdout",
     "output_type": "stream",
     "text": [
      "<class 'pandas.core.frame.DataFrame'>\n",
      "Index: 3 entries, Dad to Child\n",
      "Data columns (total 3 columns):\n",
      " #   Column   Non-Null Count  Dtype \n",
      "---  ------   --------------  ----- \n",
      " 0   Family1  3 non-null      object\n",
      " 1   Family2  3 non-null      object\n",
      " 2   Family3  3 non-null      object\n",
      "dtypes: object(3)\n",
      "memory usage: 96.0+ bytes\n"
     ]
    }
   ],
   "source": [
    "df.info()"
   ]
  },
  {
   "cell_type": "markdown",
   "id": "a45b5d57",
   "metadata": {},
   "source": [
    "#### ITERATION\n",
    "for loop, while loop"
   ]
  },
  {
   "cell_type": "code",
   "execution_count": 51,
   "id": "e946aa9e",
   "metadata": {},
   "outputs": [
    {
     "name": "stdout",
     "output_type": "stream",
     "text": [
      "1\n",
      "3\n",
      "5\n",
      "7\n",
      "9\n",
      "11\n",
      "13\n",
      "15\n",
      "17\n",
      "19\n",
      "21\n"
     ]
    }
   ],
   "source": [
    "for i in range(1,22, 2):\n",
    "    print(i)"
   ]
  },
  {
   "cell_type": "code",
   "execution_count": 56,
   "id": "ff007167",
   "metadata": {},
   "outputs": [
    {
     "name": "stdout",
     "output_type": "stream",
     "text": [
      "Orange\n",
      "Mango\n",
      "Guava\n",
      "Apple\n",
      "Pineapple\n"
     ]
    }
   ],
   "source": [
    "fruits = ['Orange','Mango','Guava','Apple','Pineapple']\n",
    "fruits\n",
    "\n",
    "if 'Orange' in fruits:\n",
    "    for i in fruits:\n",
    "        print(i)\n",
    "else:\n",
    "    print('No')"
   ]
  },
  {
   "cell_type": "markdown",
   "id": "d88f52ff",
   "metadata": {},
   "source": [
    "#### ASSIGNMENT\n",
    " - Ade is twice as old as his sister, four years ago he was six times as old\n",
    "as his sister. What is the current age of ade now\n",
    "\n",
    " - Write a python code to show prime numbers as received from user"
   ]
  },
  {
   "cell_type": "code",
   "execution_count": 58,
   "id": "d03ddafe",
   "metadata": {},
   "outputs": [
    {
     "name": "stdout",
     "output_type": "stream",
     "text": [
      "24\n"
     ]
    }
   ],
   "source": [
    "x =  5\n",
    "y  = 7\n",
    "z =  x + y\n",
    "print(z*2)"
   ]
  },
  {
   "cell_type": "code",
   "execution_count": 35,
   "id": "834e57d5",
   "metadata": {
    "scrolled": true
   },
   "outputs": [],
   "source": [
    "# te = str.maketrans(\"p\", \"P\")\n",
    "# te.translate(text)"
   ]
  }
 ],
 "metadata": {
  "kernelspec": {
   "display_name": "Python 3 (ipykernel)",
   "language": "python",
   "name": "python3"
  },
  "language_info": {
   "codemirror_mode": {
    "name": "ipython",
    "version": 3
   },
   "file_extension": ".py",
   "mimetype": "text/x-python",
   "name": "python",
   "nbconvert_exporter": "python",
   "pygments_lexer": "ipython3",
   "version": "3.10.9"
  }
 },
 "nbformat": 4,
 "nbformat_minor": 5
}
