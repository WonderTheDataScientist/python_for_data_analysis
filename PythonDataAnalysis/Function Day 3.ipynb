{
 "cells": [
  {
   "cell_type": "markdown",
   "id": "5a5b03cd",
   "metadata": {},
   "source": [
    "#### FUNCTION\n",
    "A function is a block of code which only runs when it is called\n",
    "- You can pass data into a function known as a parameter\n",
    "- return data as a result from a function"
   ]
  },
  {
   "cell_type": "markdown",
   "id": "e5100338",
   "metadata": {},
   "source": [
    "### CEEATING A FUNCTION\n",
    "you create a function  with the def keyword"
   ]
  },
  {
   "cell_type": "code",
   "execution_count": 2,
   "id": "749f9627",
   "metadata": {},
   "outputs": [
    {
     "name": "stdout",
     "output_type": "stream",
     "text": [
      "Welcome World!\n"
     ]
    }
   ],
   "source": [
    "def myfunction():\n",
    "    print('Welcome World!')\n",
    "    \n",
    "myfunction()   "
   ]
  },
  {
   "cell_type": "code",
   "execution_count": 5,
   "id": "821fec9d",
   "metadata": {},
   "outputs": [
    {
     "name": "stdout",
     "output_type": "stream",
     "text": [
      "my name is Yemi\n"
     ]
    }
   ],
   "source": [
    "def name():\n",
    "    print('my name is Yemi')\n",
    "name()"
   ]
  },
  {
   "cell_type": "markdown",
   "id": "26fce15a",
   "metadata": {},
   "source": [
    "#### ARGUMENTS IN FUNCTION\n",
    "- information can be passed into a function as an argument\n",
    "- they are specified after a function name inside the parenthesis"
   ]
  },
  {
   "cell_type": "code",
   "execution_count": 10,
   "id": "155b545c",
   "metadata": {},
   "outputs": [
    {
     "name": "stdout",
     "output_type": "stream",
     "text": [
      "my name is Yemi\n"
     ]
    }
   ],
   "source": [
    "def myname(firstname):\n",
    "    print('my name is', firstname)\n",
    "myname('Yemi')"
   ]
  },
  {
   "cell_type": "code",
   "execution_count": 11,
   "id": "17f94d85",
   "metadata": {},
   "outputs": [
    {
     "name": "stdout",
     "output_type": "stream",
     "text": [
      "my name is Yemi   Chima\n"
     ]
    }
   ],
   "source": [
    "def myname(firstname, lastname):\n",
    "    print('my name is', firstname, ' ', lastname)\n",
    "myname('Yemi', 'Chima')"
   ]
  },
  {
   "cell_type": "code",
   "execution_count": 13,
   "id": "adf45b31",
   "metadata": {},
   "outputs": [
    {
     "name": "stdout",
     "output_type": "stream",
     "text": [
      "Wonder Bassey\n",
      "deborah Bassey\n",
      "John Bassey\n"
     ]
    }
   ],
   "source": [
    "def wonderfamily(fname):\n",
    "    print(fname, 'Bassey')\n",
    "wonderfamily('Wonder')\n",
    "wonderfamily('deborah')\n",
    "wonderfamily('John')"
   ]
  },
  {
   "cell_type": "markdown",
   "id": "59a269d9",
   "metadata": {},
   "source": [
    "#### PARAMETERS OR ARGUMENTS\n",
    "- the term parameter of argument can be used for the same thing"
   ]
  },
  {
   "cell_type": "code",
   "execution_count": 17,
   "id": "deb8aedd",
   "metadata": {},
   "outputs": [
    {
     "name": "stdout",
     "output_type": "stream",
     "text": [
      "43200.0\n"
     ]
    }
   ],
   "source": [
    "def SimpleInterest(p, r, t):\n",
    "    print((p*r*t)/100)\n",
    "SimpleInterest(1000, 2, 36*60)"
   ]
  },
  {
   "cell_type": "markdown",
   "id": "e28d0abc",
   "metadata": {},
   "source": [
    "##### ARBITRARY ARGUMENTS (*args)\n"
   ]
  },
  {
   "cell_type": "code",
   "execution_count": 20,
   "id": "e65b073a",
   "metadata": {},
   "outputs": [
    {
     "name": "stdout",
     "output_type": "stream",
     "text": [
      "the youngest kid is Timi\n"
     ]
    }
   ],
   "source": [
    "def myfunction(*kids):\n",
    "    print(\"the youngest kid is\" + kids[2])\n",
    "\n",
    "myfunction(\" Ola\", \" Segun\", \" Timi\",  \" Lola\")"
   ]
  },
  {
   "cell_type": "markdown",
   "id": "01e50ae4",
   "metadata": {},
   "source": [
    "### RETURN VALUES IN FUNCTION\n",
    " - to let a function return a value, use the return statement"
   ]
  },
  {
   "cell_type": "code",
   "execution_count": 21,
   "id": "73cca0fc",
   "metadata": {},
   "outputs": [
    {
     "name": "stdout",
     "output_type": "stream",
     "text": [
      "15\n"
     ]
    }
   ],
   "source": [
    "def myfunction(x):\n",
    "    return 5 * x\n",
    "\n",
    "print(myfunction(3))"
   ]
  },
  {
   "cell_type": "code",
   "execution_count": 23,
   "id": "78a138c5",
   "metadata": {},
   "outputs": [
    {
     "name": "stdout",
     "output_type": "stream",
     "text": [
      "Bassey Wonder\n"
     ]
    }
   ],
   "source": [
    "def name(lastname):\n",
    "    return lastname\n",
    "print('Bassey', 'Wonder')"
   ]
  },
  {
   "cell_type": "markdown",
   "id": "8f1591c8",
   "metadata": {},
   "source": [
    "### WHILE LOOP\n",
    "- with the while loop we can execute a set of statement as long as a condition is true"
   ]
  },
  {
   "cell_type": "code",
   "execution_count": 1,
   "id": "482a3375",
   "metadata": {},
   "outputs": [
    {
     "name": "stdout",
     "output_type": "stream",
     "text": [
      "1\n",
      "2\n",
      "3\n",
      "4\n",
      "5\n"
     ]
    }
   ],
   "source": [
    "i = 1\n",
    "while i < 6:\n",
    "    print(i)\n",
    "    i +=1"
   ]
  },
  {
   "cell_type": "code",
   "execution_count": 32,
   "id": "bb121b9e",
   "metadata": {
    "scrolled": true
   },
   "outputs": [
    {
     "name": "stdout",
     "output_type": "stream",
     "text": [
      "0\n",
      "2\n",
      "4\n",
      "6\n",
      "8\n",
      "10\n",
      "12\n",
      "14\n",
      "16\n",
      "18\n",
      "20\n"
     ]
    }
   ],
   "source": [
    "i = 0\n",
    "while i <= 21:\n",
    "    print(i)\n",
    "    i +=2"
   ]
  },
  {
   "cell_type": "code",
   "execution_count": 33,
   "id": "348aaa5e",
   "metadata": {},
   "outputs": [],
   "source": [
    "# Break statement in while loop"
   ]
  },
  {
   "cell_type": "code",
   "execution_count": 36,
   "id": "efaec46e",
   "metadata": {},
   "outputs": [
    {
     "name": "stdout",
     "output_type": "stream",
     "text": [
      "1\n",
      "2\n",
      "3\n",
      "4\n",
      "5\n"
     ]
    }
   ],
   "source": [
    "i = 1\n",
    "while i < 6:\n",
    "    print(i)\n",
    "    if i == 5:\n",
    "        break\n",
    "    i +=1"
   ]
  },
  {
   "cell_type": "code",
   "execution_count": null,
   "id": "d8d26bcd",
   "metadata": {},
   "outputs": [],
   "source": [
    "i = 1\n",
    "while i < 6:\n",
    "    print(i)\n",
    "    if i ==4:\n",
    "        break\n",
    "        i=+1"
   ]
  },
  {
   "cell_type": "code",
   "execution_count": null,
   "id": "e94d1e32",
   "metadata": {},
   "outputs": [],
   "source": []
  },
  {
   "cell_type": "code",
   "execution_count": null,
   "id": "219efa8f",
   "metadata": {},
   "outputs": [],
   "source": []
  },
  {
   "cell_type": "code",
   "execution_count": 3,
   "id": "9c42f785",
   "metadata": {},
   "outputs": [
    {
     "name": "stdout",
     "output_type": "stream",
     "text": [
      "1\n",
      "2\n"
     ]
    }
   ],
   "source": [
    "# continue statement\n",
    "i = 0\n",
    "while i <6:\n",
    "    i +=1\n",
    "    if i ==3:\n",
    "        break\n",
    "    print(i)"
   ]
  },
  {
   "cell_type": "code",
   "execution_count": 4,
   "id": "8e8b15d4",
   "metadata": {},
   "outputs": [
    {
     "name": "stdout",
     "output_type": "stream",
     "text": [
      "5\n",
      "9\n"
     ]
    }
   ],
   "source": [
    "i = 1\n",
    "while i < 6:\n",
    "    i +=4\n",
    "    if i ==4:\n",
    "        break\n",
    "    print(i)"
   ]
  }
 ],
 "metadata": {
  "kernelspec": {
   "display_name": "Python 3 (ipykernel)",
   "language": "python",
   "name": "python3"
  },
  "language_info": {
   "codemirror_mode": {
    "name": "ipython",
    "version": 3
   },
   "file_extension": ".py",
   "mimetype": "text/x-python",
   "name": "python",
   "nbconvert_exporter": "python",
   "pygments_lexer": "ipython3",
   "version": "3.10.9"
  }
 },
 "nbformat": 4,
 "nbformat_minor": 5
}
