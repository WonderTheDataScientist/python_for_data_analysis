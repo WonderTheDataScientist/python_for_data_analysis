{
 "cells": [
  {
   "cell_type": "markdown",
   "id": "d1b70fa3",
   "metadata": {},
   "source": [
    "### PYTHON CLASS\n",
    "Python is an object oriented programming language. Almost everything in python is an object, \n",
    "with its properties and methods.\n",
    "A class is like an object constructor, or a \"blueprint\" for creating objects."
   ]
  },
  {
   "cell_type": "markdown",
   "id": "7e5406f6",
   "metadata": {},
   "source": [
    "## create a class\n",
    "a class named Myclass, with a property named x"
   ]
  },
  {
   "cell_type": "code",
   "execution_count": 1,
   "id": "ccbd9324",
   "metadata": {},
   "outputs": [
    {
     "name": "stdout",
     "output_type": "stream",
     "text": [
      "<class '__main__.Myclass'>\n"
     ]
    }
   ],
   "source": [
    "class Myclass:\n",
    "    x = 5\n",
    "print(Myclass)"
   ]
  },
  {
   "cell_type": "markdown",
   "id": "4cf568a3",
   "metadata": {},
   "source": [
    "## create Object\n",
    "now we can use the class named Myclass to create objects"
   ]
  },
  {
   "cell_type": "code",
   "execution_count": 2,
   "id": "b17d7393",
   "metadata": {},
   "outputs": [
    {
     "name": "stdout",
     "output_type": "stream",
     "text": [
      "5\n"
     ]
    }
   ],
   "source": [
    "p1 = Myclass()\n",
    "print(p1.x)"
   ]
  },
  {
   "cell_type": "code",
   "execution_count": 3,
   "id": "d8a2d451",
   "metadata": {},
   "outputs": [],
   "source": [
    "class LivingThing:\n",
    "    man = 60\n",
    "    woman = 70\n",
    "    dogs = 35\n"
   ]
  },
  {
   "cell_type": "code",
   "execution_count": 5,
   "id": "4ddbe237",
   "metadata": {},
   "outputs": [
    {
     "name": "stdout",
     "output_type": "stream",
     "text": [
      "60\n",
      "35\n"
     ]
    }
   ],
   "source": [
    "hb = LivingThing()\n",
    "animal = LivingThing()\n",
    "\n",
    "print(hb.man)\n",
    "print(animal.dogs)"
   ]
  },
  {
   "cell_type": "raw",
   "id": "700e7f50",
   "metadata": {},
   "source": [
    "# The __init__() function\n",
    "this is a built in python function associated with class in python.\n",
    "the use of the __init__() function is to assign values to the object properties, or other operations\n",
    "that are necessary to do when the object is being created."
   ]
  },
  {
   "cell_type": "raw",
   "id": "f596af1c",
   "metadata": {},
   "source": [
    "example\n",
    "create a class named person and use the __init__ function to assign values for name and age"
   ]
  },
  {
   "cell_type": "code",
   "execution_count": 7,
   "id": "99e043b3",
   "metadata": {},
   "outputs": [
    {
     "name": "stdout",
     "output_type": "stream",
     "text": [
      "Rhoda\n",
      "25\n"
     ]
    }
   ],
   "source": [
    "class Person:\n",
    "    def __init__(self, name, age):\n",
    "        self.name = name\n",
    "        self.age = age\n",
    "        \n",
    "p2 = Person('Rhoda', 25)\n",
    "print(p2.name)\n",
    "print(p2.age)"
   ]
  },
  {
   "cell_type": "code",
   "execution_count": 17,
   "id": "6db6e338",
   "metadata": {},
   "outputs": [
    {
     "name": "stdout",
     "output_type": "stream",
     "text": [
      "The value for the object property man is 60 \n",
      " The value for the object property woman is 70 \n",
      " The value for the object property dog is 35\n"
     ]
    }
   ],
   "source": [
    "class LivingThing:\n",
    "    def __init__(self, man, woman, dog):\n",
    "        self.man = man\n",
    "        self.woman = woman\n",
    "        self.dog = dog\n",
    "\n",
    "Hb = LivingThing(60, 70, '')\n",
    "Animal = LivingThing('', '', 35)\n",
    "print('The value for the object property man is' , Hb.man,\n",
    "      '\\n The value for the object property woman is' , Hb.woman,\n",
    "      '\\n The value for the object property dog is' , Animal.dog)\n",
    "    "
   ]
  },
  {
   "cell_type": "raw",
   "id": "7bf0615f",
   "metadata": {},
   "source": [
    "# The __str__() function\n",
    "this is a built in python function associated with class in python.\n",
    "it controls what should be returned when the class object is represented as a string"
   ]
  },
  {
   "cell_type": "code",
   "execution_count": 22,
   "id": "96b9b1c9",
   "metadata": {},
   "outputs": [
    {
     "name": "stdout",
     "output_type": "stream",
     "text": [
      "John 24\n"
     ]
    }
   ],
   "source": [
    "class Person:\n",
    "    def __init__(self, name, age):\n",
    "        self.name = name\n",
    "        self.age = age\n",
    "    \n",
    "    def __str__(self):\n",
    "        return f\"{self.name} {self.age}\"\n",
    "    \n",
    "p1 = Person(\"John\", 24)\n",
    "print(p1)\n",
    "        \n",
    "        "
   ]
  },
  {
   "cell_type": "markdown",
   "id": "e6d37efe",
   "metadata": {},
   "source": [
    "##### METHODS\n",
    "Methods in objects are functions that belong to that obeject"
   ]
  },
  {
   "cell_type": "code",
   "execution_count": 23,
   "id": "f7553891",
   "metadata": {},
   "outputs": [
    {
     "data": {
      "text/plain": [
       "'John 24'"
      ]
     },
     "execution_count": 23,
     "metadata": {},
     "output_type": "execute_result"
    }
   ],
   "source": [
    "class Person:\n",
    "    def __init__(self, name, age):\n",
    "        self.name = name\n",
    "        self.age = age\n",
    "    \n",
    "    def boy(self):\n",
    "        return f\"{self.name} {self.age}\"\n",
    "    \n",
    "p1 = Person(\"John\", 24)\n",
    "p1.boy()"
   ]
  },
  {
   "cell_type": "markdown",
   "id": "001d88a6",
   "metadata": {},
   "source": [
    "### ASSIGNMENT\n",
    "\n",
    "Create a python class to store all the values of the properties of a standing fan"
   ]
  },
  {
   "cell_type": "code",
   "execution_count": 25,
   "id": "756d4507",
   "metadata": {},
   "outputs": [
    {
     "name": "stdout",
     "output_type": "stream",
     "text": [
      "1\n",
      "2\n",
      "3\n",
      "4\n",
      "5\n"
     ]
    }
   ],
   "source": [
    "i = 1\n",
    "while i < 6:\n",
    "    print(i)\n",
    "    if i == 5:\n",
    "        break\n",
    "    i +=1"
   ]
  }
 ],
 "metadata": {
  "kernelspec": {
   "display_name": "Python 3 (ipykernel)",
   "language": "python",
   "name": "python3"
  },
  "language_info": {
   "codemirror_mode": {
    "name": "ipython",
    "version": 3
   },
   "file_extension": ".py",
   "mimetype": "text/x-python",
   "name": "python",
   "nbconvert_exporter": "python",
   "pygments_lexer": "ipython3",
   "version": "3.10.9"
  }
 },
 "nbformat": 4,
 "nbformat_minor": 5
}
